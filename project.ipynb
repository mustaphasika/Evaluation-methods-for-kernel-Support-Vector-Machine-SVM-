{
 "cells": [
  {
   "cell_type": "markdown",
   "id": "a93f96b6-6914-465a-9cd8-c93d1e85e1cd",
   "metadata": {},
   "source": [
    "# Chargement des librairies"
   ]
  },
  {
   "cell_type": "code",
   "execution_count": 1,
   "id": "b27e7f9b-b099-4926-85a9-972067c1b08c",
   "metadata": {
    "tags": []
   },
   "outputs": [],
   "source": [
    "from sklearn.datasets import load_svmlight_file\n",
    "import numpy as np\n",
    "import pandas as pd\n",
    "from sklearn.metrics import accuracy_score\n",
    "from sklearn.model_selection import train_test_split\n",
    "from sklearn.preprocessing import StandardScaler\n",
    "from sklearn.datasets import load_svmlight_file\n",
    "from sklearn.svm import SVC, LinearSVC\n",
    "from time import time\n",
    "from sklearn.metrics.pairwise import rbf_kernel\n",
    "from scipy.sparse.linalg import svds\n",
    "from scipy.linalg import svd\n",
    "from scipy.sparse import csc_matrix\n",
    "from numpy.linalg import multi_dot\n",
    "from numpy.linalg import norm\n",
    "from math import pi\n",
    "from scipy import linalg\n",
    "import matplotlib.pyplot as plt\n",
    "plt.style.use('ggplot')\n",
    "from scipy import linalg\n",
    "            "
   ]
  },
  {
   "cell_type": "markdown",
   "id": "4e39298f-fd5b-48e6-990e-b0333708d0be",
   "metadata": {},
   "source": [
    "# 1. Chargement des données"
   ]
  },
  {
   "cell_type": "code",
   "execution_count": 2,
   "id": "8f715329-a518-437b-9923-a56e79ccd8d3",
   "metadata": {
    "tags": []
   },
   "outputs": [],
   "source": [
    "X, y = load_svmlight_file('ijcnn1')"
   ]
  },
  {
   "cell_type": "code",
   "execution_count": 3,
   "id": "eb591abc-16c9-4c29-9142-c900a7309889",
   "metadata": {
    "tags": []
   },
   "outputs": [
    {
     "data": {
      "text/plain": [
       "(49990, 22)"
      ]
     },
     "execution_count": 3,
     "metadata": {},
     "output_type": "execute_result"
    }
   ],
   "source": [
    "X = pd.DataFrame(X.todense())\n",
    "X.shape"
   ]
  },
  {
   "cell_type": "markdown",
   "id": "63c853e2-3a9b-4e01-ad10-5bea5bd4371b",
   "metadata": {},
   "source": [
    "On a bien 22 features et 49990 enregistrements."
   ]
  },
  {
   "cell_type": "markdown",
   "id": "6f619139-751e-4a97-9aee-d2fefbf8fe9d",
   "metadata": {
    "tags": []
   },
   "source": [
    "# 2. Normalisation des données"
   ]
  },
  {
   "cell_type": "code",
   "execution_count": 4,
   "id": "b98d4e01-a14f-4938-9ad1-1df28de564ca",
   "metadata": {},
   "outputs": [],
   "source": [
    "scaler = StandardScaler(with_mean=False)\n",
    "X_Scaled = scaler.fit_transform(X)"
   ]
  },
  {
   "cell_type": "markdown",
   "id": "0511bf9c-d172-4034-b683-2a73131c65e7",
   "metadata": {},
   "source": [
    "# 3. Construction des échantillons d’apprentissage "
   ]
  },
  {
   "cell_type": "code",
   "execution_count": 5,
   "id": "03aed97c-23af-4ea3-836f-6453821e90f1",
   "metadata": {
    "tags": []
   },
   "outputs": [],
   "source": [
    "X_train, X_test, y_train, y_test = train_test_split(X_Scaled, y, test_size=0.6,random_state=42)\n"
   ]
  },
  {
   "cell_type": "code",
   "execution_count": 6,
   "id": "b01fc03f-3b35-496a-8dea-2722f5d63b72",
   "metadata": {
    "tags": []
   },
   "outputs": [
    {
     "name": "stdout",
     "output_type": "stream",
     "text": [
      "Taille des données d’apprentissag: 19996\n",
      "Taille des données de test: 29994\n",
      "Features: 22\n"
     ]
    }
   ],
   "source": [
    "n1, p = X_train.shape\n",
    "n2 = X_test.shape[0]\n",
    "\n",
    "print(\"Taille des données d’apprentissag:\", n1)\n",
    "print(\"Taille des données de test:\", n2)\n",
    "print(\"Features:\", p)"
   ]
  },
  {
   "cell_type": "markdown",
   "id": "901fc83b-4a14-4219-aa8f-bbc96bb09739",
   "metadata": {
    "tags": []
   },
   "source": [
    "- On a déterminé la proportion des données attribuées à l'ensemble de test par rapport à l'ensemble total de données disponibles à 60% donc on aura bien presque 20000 de données d’apprentissage et 29990 de données de test.\n",
    "\n",
    "- La différence entre ça et les valeurs qu'on a utulisé en pratique réside dans la répartition des données entre l'ensemble de test et l'ensemble d'apprentissage. Une valeur plus grande pour test_size signifie que vous réservez une plus grande proportion de données pour l'ensemble de test, réduisant ainsi la quantité de données disponibles pour l'apprentissage."
   ]
  },
  {
   "cell_type": "markdown",
   "id": "f1cea256-9477-4b79-bab8-5d57517c66da",
   "metadata": {},
   "source": [
    "# 4. Construction du SVM linéaire (sans noyau)"
   ]
  },
  {
   "cell_type": "code",
   "execution_count": 7,
   "id": "7cc578ff-2190-4c8a-b0d2-4fa4d9ee15ef",
   "metadata": {
    "tags": []
   },
   "outputs": [
    {
     "name": "stdout",
     "output_type": "stream",
     "text": [
      "Le Temps d'apprentissage du SVM linéaire est de 0.042376s\n"
     ]
    }
   ],
   "source": [
    "# Train linéaire\n",
    "t0 = time()\n",
    "svm_lin = LinearSVC(dual=False)\n",
    "svm_lin.fit(X_train, y_train)\n",
    "print(\"Le Temps d'apprentissage du SVM linéaire est de %fs\" % (time() - t0))"
   ]
  },
  {
   "cell_type": "code",
   "execution_count": 8,
   "id": "3a2c3d00-e055-4aec-a9c8-a298ef556d15",
   "metadata": {
    "tags": []
   },
   "outputs": [
    {
     "name": "stdout",
     "output_type": "stream",
     "text": [
      "Le Temps de test du SVM linéaire est de 0.005186s\n"
     ]
    }
   ],
   "source": [
    "# Test linéaire\n",
    "t1 = time()\n",
    "timing_linear = time() - t1\n",
    "y_pred = svm_lin.predict(X_test)\n",
    "print(\"Le Temps de test du SVM linéaire est de %fs\" % (time() - t1))"
   ]
  },
  {
   "cell_type": "code",
   "execution_count": 9,
   "id": "4ecacb2a-1b3b-4e00-8ad2-b478b46aae88",
   "metadata": {
    "tags": []
   },
   "outputs": [
    {
     "name": "stdout",
     "output_type": "stream",
     "text": [
      "Le score de prédiction linéaire est de: 0.922118\n"
     ]
    }
   ],
   "source": [
    "# Accuracy linéaire\n",
    "accuracy_linear = accuracy_score(y_pred, y_test)\n",
    "print(\"Le score de prédiction linéaire est de: %f\" % accuracy_linear)"
   ]
  },
  {
   "cell_type": "markdown",
   "id": "2f0a83a0-5160-4c1c-aced-e3e57194819f",
   "metadata": {},
   "source": [
    "- On remarque que le temps d'exécution du SVM linéaire est assez rapide, en ce qui concerne la précision, le SVM linéaire fonctionne bien mais d'autres méthodes auront potentiellement des meilleures résultats"
   ]
  },
  {
   "cell_type": "markdown",
   "id": "970842e3-d8af-475d-9318-6c5f6006c832",
   "metadata": {
    "tags": []
   },
   "source": [
    "# 4. Construction du SVM non linéaire (avec noyau)"
   ]
  },
  {
   "cell_type": "code",
   "execution_count": 10,
   "id": "5209087a-3a9f-48ed-97fc-330f0660ba38",
   "metadata": {
    "tags": []
   },
   "outputs": [
    {
     "name": "stdout",
     "output_type": "stream",
     "text": [
      "Le Temps d'apprentissage du SVM non linéaire (RBF) est de 3.084792s\n"
     ]
    }
   ],
   "source": [
    "# Train RBF\n",
    "t0 = time()\n",
    "clf_rbf = SVC(kernel='rbf')\n",
    "clf_rbf.fit(X_train, y_train)\n",
    "print(\"Le Temps d'apprentissage du SVM non linéaire (RBF) est de %fs\" % (time() - t0))"
   ]
  },
  {
   "cell_type": "code",
   "execution_count": 11,
   "id": "bbc2e6ef-1b45-48ba-8a1b-2fb38359c8e8",
   "metadata": {
    "tags": []
   },
   "outputs": [
    {
     "name": "stdout",
     "output_type": "stream",
     "text": [
      "Le temps de test du SVM non linéaire (RBF) est de 4.203852s\n"
     ]
    }
   ],
   "source": [
    "# Test RBF\n",
    "t1 = time()\n",
    "y_pred = clf_rbf.predict(X_test)\n",
    "timing_kernel = time() - t1\n",
    "print(\"Le temps de test du SVM non linéaire (RBF) est de %fs\" % (time() - t1))"
   ]
  },
  {
   "cell_type": "code",
   "execution_count": 12,
   "id": "1fab01f5-2006-4a24-bab8-03da389e2593",
   "metadata": {
    "tags": []
   },
   "outputs": [
    {
     "name": "stdout",
     "output_type": "stream",
     "text": [
      "Le score de prédiction du SVM non linéaire (RBF) est de 0.973828\n"
     ]
    }
   ],
   "source": [
    "# Accuracy RBF\n",
    "accuracy_rbf = accuracy_score(y_pred, y_test)\n",
    "print(\"Le score de prédiction du SVM non linéaire (RBF) est de %f\" % accuracy_rbf)"
   ]
  },
  {
   "cell_type": "markdown",
   "id": "5d14ccd6-e83a-4f13-add3-18abb3d2b925",
   "metadata": {},
   "source": [
    "# 4. Comparaison des résultats"
   ]
  },
  {
   "cell_type": "markdown",
   "id": "eec9416d-71d9-4e67-b853-4ee101a5630f",
   "metadata": {},
   "source": [
    "- On remarque que le score de prédiction en utilisant le RBF est plus élevé que le SVM linéaire, en effet le RBF peut capturer des relations non linéaires entre les données, grâce à l'utilisation d'une fonction de base radiale permettant une projection de ces données dans un espace de dimension supérieure où elles sont plus facilement séparables.\n",
    "\n",
    "- Par contre on a un temps d'exécution potentiellement plus long dû à cette projection (dans un espace de dimension supérieure) qui est plus gourmande en matière de calcul, ce qui peut rendre l'apprentissage plus lent."
   ]
  },
  {
   "cell_type": "markdown",
   "id": "d314c3d7-d4b2-4bbf-8abc-e52b4328922d",
   "metadata": {},
   "source": [
    "# 5. Random Kernel Features"
   ]
  },
  {
   "cell_type": "code",
   "execution_count": 13,
   "id": "3f906017-ed0f-4de0-a583-baed00009004",
   "metadata": {
    "tags": []
   },
   "outputs": [],
   "source": [
    "def random_Kernel_features(X_train, X_test, gamma, c):\n",
    "    rng = np.random.RandomState(seed=42)  # Initialisation d'un générateur de nombres aléatoires avec une graine (seed = 42)\n",
    "    n, p = X_train.shape  # Nombre de données et features dans X_train\n",
    "\n",
    "    # Génération de la matrice W et le vecteur b\n",
    "    W = np.random.normal(0, np.sqrt(2 * gamma), (p, c))  # Matrice W de dimensions (p, c)\n",
    "    b = np.random.uniform(0, 2 * np.pi, (1, c))  # Vecteur b de dimensions (1, c)\n",
    "\n",
    "    # Transformation des données d'entraînement et de test en utilisant la matrice W et le vecteur b générés\n",
    "    X_new_train = np.sqrt(2 / c) * np.cos(np.dot(X_train, W) + b)  # Nouvelles caractéristiques pour X_train\n",
    "    X_new_test = np.sqrt(2 / c) * np.cos(np.dot(X_test, W) + b)  # Nouvelles caractéristiques pour X_test\n",
    "    \n",
    "    return X_new_train, X_new_test  # Retourne les ensembles de données transformés\n"
   ]
  },
  {
   "cell_type": "code",
   "execution_count": 14,
   "id": "ddfe186e-a0ea-46c2-a1d8-870718ae0f92",
   "metadata": {
    "tags": []
   },
   "outputs": [],
   "source": [
    "n, p = X_train.shape\n",
    "gamma = 1. / p"
   ]
  },
  {
   "cell_type": "code",
   "execution_count": 15,
   "id": "e70e3524-cfcf-4aa9-8c3d-2e667208994c",
   "metadata": {
    "tags": []
   },
   "outputs": [],
   "source": [
    "Z_train, Z_test = random_Kernel_features(X_train, X_test, gamma, c=300)"
   ]
  },
  {
   "cell_type": "code",
   "execution_count": 16,
   "id": "593129df-e83e-4fb9-8e89-0a587c43f5a0",
   "metadata": {
    "tags": []
   },
   "outputs": [
    {
     "name": "stdout",
     "output_type": "stream",
     "text": [
      "Le Temps d'apprentissage du SVM linéaire avec l'algorithme Random Kernel Features est de 2.564520s\n"
     ]
    }
   ],
   "source": [
    "t0 = time()\n",
    "svm_lin = LinearSVC(dual=False)\n",
    "svm_lin.fit(Z_train, y_train)\n",
    "print(\"Le Temps d'apprentissage du SVM linéaire avec l'algorithme Random Kernel Features est de %fs\" % (time() - t0))"
   ]
  },
  {
   "cell_type": "code",
   "execution_count": 17,
   "id": "74b2fdec-e537-4dca-9190-c0eab7807800",
   "metadata": {},
   "outputs": [
    {
     "name": "stdout",
     "output_type": "stream",
     "text": [
      "done in 0.0177s\n",
      "Le score de prédiction du SVM linéaire avec l'algorithme Random Kernel Features est de 0.959792s\n"
     ]
    }
   ],
   "source": [
    "t1 = time()\n",
    "accuracy = svm_lin.score(Z_test, y_test)\n",
    "print(\"done in %0.4fs\" % (time() - t1))\n",
    "print(\"Le score de prédiction du SVM linéaire avec l'algorithme Random Kernel Features est de %fs\" % accuracy)"
   ]
  },
  {
   "cell_type": "markdown",
   "id": "0f2132a5-69c0-4a1d-97e7-d6396b8201b0",
   "metadata": {},
   "source": [
    "# Comparaison et Commentaires sur les résultats "
   ]
  },
  {
   "cell_type": "markdown",
   "id": "04da89cf-5429-4667-993d-af749a83ae0e",
   "metadata": {},
   "source": [
    "- On remarque que le score de prédiction du SVM linéaire avec l'algorithle Random Kernel Features se rapproche du score de prédiction RBF et mieux que le score obtenue avec le SVM linéaire.\n",
    "\n",
    "- Le temps d'apprentissage du SVM linéaire avec l'algorithle Random Kernel Features est légèrement petit que celui de RBF et plus grand que celui du SVM linéaire.\n",
    "\n",
    "\n",
    "- L'idée principale derrière cette méthode est de projeter les données d'entrée dans un espace de dimension supérieure (comme celui du RBF) de manière approximative, en évitant les calculs coûteux associés à la transformation directe dans cet espace."
   ]
  },
  {
   "cell_type": "markdown",
   "id": "c0801750-cc47-49d1-83b3-3a5192ecb636",
   "metadata": {},
   "source": [
    "# 6. Approximation de Nyström"
   ]
  },
  {
   "cell_type": "code",
   "execution_count": 18,
   "id": "66adb3b6-564a-4ece-9a3e-6c4f03c6ceb5",
   "metadata": {},
   "outputs": [],
   "source": [
    "def nystrom(X_train, X_test, gamma, c, k):\n",
    "    rng = np.random.RandomState(seed=44)  # Initialisation d'un générateur de nombres aléatoires avec une graine (seed = 44)\n",
    "    n = X_train.shape[0]  # Nombre d'enregistrements dans X_train\n",
    "    idx = rng.choice(n, c)  # Sélection aléatoire de c indices à partir de l'ensemble d'entraînement\n",
    "\n",
    "    # Extraction du sous-ensemble d'entraînement basé sur les indices choisis\n",
    "    X_train_idx = X_train[idx, :]\n",
    "\n",
    "    # Calcul de la matrice de noyau RBF pour le sous-ensemble d'entraînement\n",
    "    W = rbf_kernel(X_train_idx, X_train_idx, gamma=gamma)\n",
    "\n",
    "    # Décomposition en valeurs singulières (SVD) de la matrice W\n",
    "    u, s, vt = linalg.svd(W, full_matrices=False)\n",
    "    u = u[:, :k]  # Extraction des k premières colonnes de u\n",
    "    s = s[:k]  # Extraction des k premières valeurs singulières\n",
    "    vt = vt[:k, :]  # Extraction des k premières lignes de vt\n",
    "\n",
    "    # Construction de la matrice M \n",
    "    M = np.dot(u, np.diag(1 / np.sqrt(s)))\n",
    "\n",
    "    # Calcul de C_train et c_test\n",
    "    C_train = rbf_kernel(X_train, X_train_idx, gamma=gamma)\n",
    "    C_test = rbf_kernel(X_test, X_train_idx, gamma=gamma)\n",
    "\n",
    "    # Transformation des ensembles de données d'entraînement et de test\n",
    "    X_new_train = np.dot(C_train, M)\n",
    "    X_new_test = np.dot(C_test, M)\n",
    "\n",
    "    return X_new_train, X_new_test  # Retourne les ensembles de données transformés\n"
   ]
  },
  {
   "cell_type": "code",
   "execution_count": 19,
   "id": "499e4044-3f30-41ce-a85f-231cec3adcae",
   "metadata": {},
   "outputs": [],
   "source": [
    "Z_train, Z_test = nystrom(X_train, X_test, gamma, c=500, k=300)\n"
   ]
  },
  {
   "cell_type": "code",
   "execution_count": 20,
   "id": "a11a25b2-fbf2-48a6-a123-d9abd0ba639b",
   "metadata": {},
   "outputs": [
    {
     "name": "stdout",
     "output_type": "stream",
     "text": [
      "Le temps d'apprentissage du SVM linéaire avec l'approximation Nystrom est de 2.133599s\n"
     ]
    }
   ],
   "source": [
    "t0 = time()\n",
    "clf = LinearSVC(dual=False)\n",
    "clf.fit(Z_train, y_train)\n",
    "print(\"Le temps d'apprentissage du SVM linéaire avec l'approximation Nystrom est de %fs\" % (time() - t0))"
   ]
  },
  {
   "cell_type": "code",
   "execution_count": 21,
   "id": "2ec3aca8-ac48-4dd5-bb5b-cac94b573d38",
   "metadata": {},
   "outputs": [
    {
     "name": "stdout",
     "output_type": "stream",
     "text": [
      "Le score de prédiction du SVM linéaire avec l'approximation Nystrom est de 0.967393\n"
     ]
    }
   ],
   "source": [
    "t1 = time()\n",
    "accuracy = clf.score(Z_test, y_test)\n",
    "print(\"Le score de prédiction du SVM linéaire avec l'approximation Nystrom est de %f\" % accuracy)"
   ]
  },
  {
   "cell_type": "markdown",
   "id": "f84a8070-4c66-41a1-a261-3a0ce02ee53b",
   "metadata": {},
   "source": [
    "# Comparaison et Commentaires sur les résultats "
   ]
  },
  {
   "cell_type": "markdown",
   "id": "6fc96975-d74c-40c1-bb1e-64552a02fadc",
   "metadata": {},
   "source": [
    "- On remarque selon les résultats que le score obtenu se rapproche de celui à Random Kernel Features et RBF, mais Meilleure que SVM linéaire.\n",
    "\n",
    "- Le temps d'apprentissage est pareil que Random Kernel Features plus élevé que SVM linéaire, le RBF reste toujours l'algorithme le plus gourmand en matière du temps.\n",
    "\n",
    "- L'algorithme de Nyström est une méthode d'approximation qui réduit le coût de calcul en utilisant un sous-ensemble de données pour estimer une matrice de noyau complète. Cela rend le processus d'entraînement des modèles plus rapide tout en préservant une bonne performance."
   ]
  },
  {
   "cell_type": "markdown",
   "id": "c141da3f-bc25-4c86-835c-17fa268f52b3",
   "metadata": {
    "tags": []
   },
   "source": [
    "# 7. Synthèse des résultats"
   ]
  },
  {
   "cell_type": "code",
   "execution_count": 24,
   "id": "941548f7-8859-4746-833e-c0cda4ccf770",
   "metadata": {},
   "outputs": [
    {
     "name": "stdout",
     "output_type": "stream",
     "text": [
      "Apprentissage des SVM pour différentes valeurs de c pour les différentes méthodes...\n",
      "0 20\n",
      "1 70\n",
      "2 120\n",
      "3 170\n",
      "4 220\n",
      "5 270\n",
      "6 320\n",
      "7 370\n",
      "8 420\n",
      "9 470\n",
      "10 520\n",
      "11 570\n"
     ]
    }
   ],
   "source": [
    "ranks = np.arange(20, 600, 50)\n",
    "n_ranks = len(ranks)\n",
    "\n",
    "# Initialisation des tableaux pour stocker les temps d'exécution et les précisions pour chaque valeur de c pour chaque méthode\n",
    "\n",
    "time_linear = np.zeros(n_ranks)\n",
    "time_rbf = np.zeros(n_ranks)\n",
    "time_rkf = np.zeros(n_ranks)\n",
    "time_nystrom = np.zeros(n_ranks)\n",
    "\n",
    "accuracy_linear = np.zeros(n_ranks)\n",
    "accuracy_rbf = np.zeros(n_ranks)\n",
    "accuracy_nystrom = np.zeros(n_ranks)\n",
    "accuracy_rkf = np.zeros(n_ranks)\n",
    "\n",
    "\n",
    "print(\"Apprentissage des SVM pour différentes valeurs de c pour les différentes méthodes...\")\n",
    "\n",
    "for i, c in enumerate(ranks):\n",
    "\n",
    "    print(i, c)\n",
    "     ## SVM Linéaire\n",
    "    t0 = time()\n",
    "    clf = LinearSVC(dual=False)\n",
    "    clf.fit(X_train, y_train)\n",
    "    time_linear[i] = time() - t0\n",
    "    accuracy_linear[i] = clf.score(X_test, y_test)\n",
    "    \n",
    "    ## RBF\n",
    "    t0 = time()\n",
    "    clf = SVC(kernel='rbf')\n",
    "    clf.fit(X_train, y_train)\n",
    "    time_rbf[i] = time() - t0\n",
    "    accuracy_rbf[i] = clf.score(X_test, y_test)\n",
    "    \n",
    "    ## Random Kernel Feature\n",
    "    Z_rkf_train, Z_rkf_test = random_Kernel_features(X_train, X_test, gamma, c=c)\n",
    "    t0 = time()\n",
    "    clf = LinearSVC(dual=False)\n",
    "    clf.fit(Z_rkf_train, y_train)\n",
    "    time_rkf[i] = time() - t0\n",
    "    accuracy_rkf[i] = clf.score(Z_rkf_test, y_test)\n",
    "\n",
    "    ## Nystorm\n",
    "    Z_Nystorm_train, Z_Nystorm_test = nystrom(X_train, X_test, gamma, c=c, k=c-10)\n",
    "\n",
    "    t0 = time()\n",
    "    clf = LinearSVC(dual=False)\n",
    "    clf.fit(Z_Nystorm_train, y_train)\n",
    "    time_nystrom[i] = time() - t0\n",
    "    accuracy_nystrom[i] = clf.score(Z_Nystorm_test, y_test)"
   ]
  },
  {
   "cell_type": "markdown",
   "id": "e36914d7-6488-43f2-b52b-763e6bb3b1f9",
   "metadata": {
    "tags": []
   },
   "source": [
    "# Les graphes"
   ]
  },
  {
   "cell_type": "code",
   "execution_count": 25,
   "id": "72b6b781-7f0f-4259-9f00-2fd547bc10dd",
   "metadata": {
    "tags": []
   },
   "outputs": [
    {
     "data": {
      "image/png": "[encoded data removed]",
      "text/plain": [
       "<Figure size 1000x900 with 2 Axes>"
      ]
     },
     "metadata": {},
     "output_type": "display_data"
    }
   ],
   "source": [
    "# Création des graphes\n",
    "\n",
    "f, axes = plt.subplots(ncols=1, nrows=2, figsize=(10,9))\n",
    "ax1, ax2 = axes.ravel()\n",
    "\n",
    "ax1.plot(ranks, time_rbf * np.ones(n_ranks), '-', label='RBF')\n",
    "ax1.plot(ranks,time_nystrom, '-', label='Nystrom')\n",
    "ax1.plot(ranks, time_rkf, '-', label='RKF')\n",
    "ax1.plot(ranks, time_linear * np.ones(n_ranks), '-', label='LinearSVC')\n",
    "ax1.set_xlabel('Nombre de features')\n",
    "ax1.set_ylabel('Temps')\n",
    "ax1.legend(loc='lower right')\n",
    "\n",
    "ax2.plot(ranks, accuracy_rbf * np.ones(n_ranks), '-', label='RBF')\n",
    "ax2.plot(ranks, accuracy_nystrom, '-', label='Nystrom')\n",
    "ax2.plot(ranks, accuracy_rkf, '-', label='RKF')\n",
    "ax2.plot(ranks, accuracy_linear * np.ones(n_ranks), '-', label='LinearSVC')\n",
    "ax2.set_xlabel('Number of features')\n",
    "ax2.set_ylabel('Précision')\n",
    "ax2.legend(loc='lower right')\n",
    "\n",
    "plt.tight_layout()\n",
    "plt.show()"
   ]
  },
  {
   "cell_type": "markdown",
   "id": "86b1a127-47f8-45d9-9f1f-ac6fe3fe7f0e",
   "metadata": {},
   "source": [
    "# Commentaires sur les résultats "
   ]
  },
  {
   "cell_type": "markdown",
   "id": "2509abf7-e4e6-4c75-83a4-ce149075459c",
   "metadata": {},
   "source": [
    "- On remarque une convergence en termes de précision RKF et Nystrom qui reste supèrieur au SVM linéaire (RBF, Nystrom et RKF sont plus performant que SVM)\n",
    "\n",
    "- Le temps de calcul de Nystrom, RKF et SVM Llinéaire est également inférieur à celui du RBF, jusqu'à certain nombre de features l'lgorithme de Nystrom dépasse le RBF en terme de Précision et temps d'apprentissage ainsi que RKF dépasse RBF en temps d'apprentissage mais pas en précision.\n",
    "\n",
    "- Le SVM à noyau RBF reste plus flexible et plus performant que le SVM linéaire et RKF\n",
    "\n",
    "- Si on veut un score élevé avec un temps d'apprentissage stable, le SVM à noyau RBF est le meilleure choix meme si nystrome le dépasse à  un certains nombres de features en termes de précision cela va nous couter un temps d'apprentissage plus importants que RBF.\n",
    "\n",
    "- On remarque aussi que SVM linéaire et RBF ne dépendent pas de C (nombre de features), par contre pour RKF et Nystrom plus C est grand plus la précision augmente  et le temps d'apprentissage aussi."
   ]
  }
 ],
 "metadata": {
  "kernelspec": {
   "display_name": "Python 3 (ipykernel)",
   "language": "python",
   "name": "python3"
  },
  "language_info": {
   "codemirror_mode": {
    "name": "ipython",
    "version": 3
   },
   "file_extension": ".py",
   "mimetype": "text/x-python",
   "name": "python",
   "nbconvert_exporter": "python",
   "pygments_lexer": "ipython3",
   "version": "3.10.8"
  }
 },
 "nbformat": 4,
 "nbformat_minor": 5
}
